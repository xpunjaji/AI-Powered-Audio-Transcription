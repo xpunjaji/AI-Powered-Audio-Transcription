{
 "cells": [
  {
   "cell_type": "code",
   "execution_count": null,
   "metadata": {},
   "outputs": [],
   "source": [
    "import assemblyai as aai\n",
    "from dotenv import load_dotenv\n",
    "import os"
   ]
  },
  {
   "cell_type": "markdown",
   "metadata": {},
   "source": [
    "# Load .env file"
   ]
  },
  {
   "cell_type": "code",
   "execution_count": null,
   "metadata": {},
   "outputs": [],
   "source": [
    "load_dotenv()"
   ]
  },
  {
   "cell_type": "markdown",
   "metadata": {},
   "source": [
    "# Get API Key"
   ]
  },
  {
   "cell_type": "code",
   "execution_count": null,
   "metadata": {},
   "outputs": [
    {
     "name": "stdout",
     "output_type": "stream",
     "text": [
      "API Key loaded successfully!\n",
      "Come on, come on Turn the radio on It's Friday night and I won't belong Gotta do my hair, put my makeup on It's Friday night and I won't belong Till I hit the guns Flow Hit the dance floor I got all I need as long as I can feel the I don't need no money you as long as I give D Come on, come on Turn the radio On a Saturday and I won't be long Got to paint my nails put my high heels on a Saturday and I won't be long Till I hit the gun Flow Hit the D FL I got all I need I got you, baby Baby, I don't need dollar bill to have fun tonight Baby, I don't need dollar bill to have fun tonight I don't need no money as long as I can feel the I don't need no one as long as I give as long as I keep dancing Baby, I don't need to have fun tonight as long as I can feel the I don't need no as long as I give D.\n"
     ]
    }
   ],
   "source": [
    "API_KEY = os.getenv(\"ASSEMBLYAI_API_KEY\")\n",
    "\n",
    "if API_KEY is None:\n",
    "    raise ValueError(\"API Key not found. Please check your .env file.\")\n",
    "\n",
    "# Set API key for AssemblyAI\n",
    "aai.settings.api_key = API_KEY\n",
    "\n",
    "print(\"API Key loaded successfully!\")  # Just for testing (remove in production)\n"
   ]
  },
  {
   "cell_type": "markdown",
   "metadata": {},
   "source": [
    "# Initialize Transcriber"
   ]
  },
  {
   "cell_type": "code",
   "execution_count": null,
   "metadata": {},
   "outputs": [],
   "source": [
    "transcriber = aai.Transcriber()\n",
    "\n",
    "try:\n",
    "    transcript = transcriber.transcribe(r\"D:\\Music\\English songs\\Sia - Cheap Thrills (Performance Edit)(MP3_160K).mp3\")\n",
    "    print(transcript.text)  # Print transcript\n",
    "except Exception as e:\n",
    "    print(f\"Error: {e}\")"
   ]
  },
  {
   "cell_type": "markdown",
   "metadata": {},
   "source": [
    "## Conclusion\n",
    "This project successfully implements an **AI-powered audio transcription system** using **AssemblyAI** and **Streamlit**. The application allows users to upload audio files, process speech-to-text conversion, and extract key highlights, making it a practical tool for content creators, researchers, and businesses.\n",
    "\n",
    "## Benefits\n",
    "- **Automated Speech Recognition (ASR)**: Converts audio to text with high accuracy.\n",
    "- **Interactive Web UI**: Enables easy audio uploads and real-time transcription.\n",
    "- **Key Highlights Extraction**: Identifies important parts of the transcript.\n",
    "- **Secure API Integration**: Uses `.env` files to protect API keys.\n",
    "- **Scalability**: Can be extended to support multiple languages and large-scale datasets.\n",
    "\n",
    "\n",
    "# 👨‍💻 Developer\n",
    "\n",
    "This Project Was Developed And Built By Punjaji Karhale🚀"
   ]
  }
 ],
 "metadata": {
  "kernelspec": {
   "display_name": ".venv",
   "language": "python",
   "name": "python3"
  },
  "language_info": {
   "codemirror_mode": {
    "name": "ipython",
    "version": 3
   },
   "file_extension": ".py",
   "mimetype": "text/x-python",
   "name": "python",
   "nbconvert_exporter": "python",
   "pygments_lexer": "ipython3",
   "version": "3.12.8"
  }
 },
 "nbformat": 4,
 "nbformat_minor": 2
}
